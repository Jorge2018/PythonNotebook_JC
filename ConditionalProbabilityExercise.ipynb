{
 "cells": [
  {
   "cell_type": "markdown",
   "metadata": {},
   "source": [
    "# Probabilidad condicional\n",
    "\n",
    "*Si tengo dos eventos que dependen el uno del otro,¿cuál es la probabilidad de que ocurran ambos?*\n",
    "\n",
    "Notación: \n",
    "- P(A,B) es la probabilidad de que A y B ocurran. \n",
    "- P (A|B): probabilidad de B dado que A ha ocurrido\n",
    "\n",
    "*Doy a mis alumnos dos pruebas. El 60% de mis estudiantes aprobaron ambas pruebas, pero la primera prueba fue más fácil: el 80% aprobó esa. ¿Qué porcentaje de estudiantes que aprobaron la primera prueba también aprobaron la segunda?*\n",
    "- A= pasar la primera prueba\n",
    "- B = pasar la segunda prueba. \n",
    "\n",
    "*Así que estamos pidiendo P(A| B)- la probabilidad de B a dado A*\n",
    "\n",
    "- P(A| B)= 0.6/0.8=0.75\n",
    "\n",
    "*Asi es corecto decir que la posibilidad de que los alumnos que aprobaron el examen A, es del 75%, con respecto al examen B.*"
   ]
  },
  {
   "cell_type": "markdown",
   "metadata": {},
   "source": [
    "# Actividad de probabilidad condicional y ejercicio"
   ]
  },
  {
   "cell_type": "markdown",
   "metadata": {},
   "source": [
    "A continuación se muestra un código para crear algunos datos falsos sobre la cantidad de cosas que las personas compran según su rango de edad.\n",
    "\n",
    "Genera 100,000 \"personas\" aleatorias y las asigna aleatoriamente como si estuvieran en sus 20, 30, 40, 50, 60 o 70 años.\n",
    "\n",
    "Luego asigna una menor probabilidad para que los jóvenes compren cosas.\n",
    "\n",
    "Al final, tenemos dos diccionarios de Python:\n",
    "\n",
    "\"totals\" contiene el número total de personas en cada grupo de edad.\n",
    "\"purchases\" contiene el número total de cosas compradas por personas en cada grupo de edad.\n",
    "El gran total de compras es en totalPurchases, y sabemos que el número total de personas es 100,000.\n",
    "\n",
    "Vamos a ejecutarlo y echar un vistazo:"
   ]
  },
  {
   "cell_type": "code",
   "execution_count": 2,
   "metadata": {},
   "outputs": [],
   "source": [
    "from numpy import random\n",
    "random.seed(0)\n",
    "\n",
    "totals = {20:0, 30:0, 40:0, 50:0, 60:0, 70:0}\n",
    "purchases = {20:0, 30:0, 40:0, 50:0, 60:0, 70:0}\n",
    "totalPurchases = 0\n",
    "for _ in range(100000):\n",
    "    ageDecade = random.choice([20, 30, 40, 50, 60, 70])\n",
    "    purchaseProbability = float(ageDecade) / 100.0\n",
    "    totals[ageDecade] += 1\n",
    "    if (random.random() < purchaseProbability):\n",
    "        totalPurchases += 1\n",
    "        purchases[ageDecade] += 1"
   ]
  },
  {
   "cell_type": "code",
   "execution_count": 3,
   "metadata": {},
   "outputs": [
    {
     "data": {
      "text/plain": [
       "{20: 16576, 30: 16619, 40: 16632, 50: 16805, 60: 16664, 70: 16704}"
      ]
     },
     "execution_count": 3,
     "metadata": {},
     "output_type": "execute_result"
    }
   ],
   "source": [
    "totals"
   ]
  },
  {
   "cell_type": "code",
   "execution_count": 4,
   "metadata": {},
   "outputs": [
    {
     "data": {
      "text/plain": [
       "{20: 3392, 30: 4974, 40: 6670, 50: 8319, 60: 9944, 70: 11713}"
      ]
     },
     "execution_count": 4,
     "metadata": {},
     "output_type": "execute_result"
    }
   ],
   "source": [
    "purchases"
   ]
  },
  {
   "cell_type": "code",
   "execution_count": 5,
   "metadata": {},
   "outputs": [
    {
     "data": {
      "text/plain": [
       "45012"
      ]
     },
     "execution_count": 5,
     "metadata": {},
     "output_type": "execute_result"
    }
   ],
   "source": [
    "totalPurchases"
   ]
  },
  {
   "cell_type": "markdown",
   "metadata": {},
   "source": [
    "Juguemos con la probabilidad condicional.\n",
    "\n",
    "Primero calculemos P(E| F), donde E es \"purchases\" y F es \"estás en tus 30 años\". La probabilidad de que alguien en sus 30 años compre algo es solo el porcentaje de cuántos 30 años compraron algo:"
   ]
  },
  {
   "cell_type": "code",
   "execution_count": 6,
   "metadata": {},
   "outputs": [
    {
     "name": "stdout",
     "output_type": "stream",
     "text": [
      "La posibilidad de que alguien de 30 años compre algo es de.. 0.29929598652145134\n"
     ]
    }
   ],
   "source": [
    "PEF = float(purchases[30]) / float(totals[30])\n",
    "print('La posibilidad de que alguien de 30 años compre algo es de..',str(PEF))"
   ]
  },
  {
   "cell_type": "markdown",
   "metadata": {},
   "source": [
    "P(F) es solo la probabilidad de ser 30 en este conjunto de datos:"
   ]
  },
  {
   "cell_type": "code",
   "execution_count": 7,
   "metadata": {},
   "outputs": [
    {
     "name": "stdout",
     "output_type": "stream",
     "text": [
      "La posibilidad de que alguien de 30 años compre algo en este conjunto de datos es de.. 0.16619\n"
     ]
    }
   ],
   "source": [
    "PF = float(totals[30]) / 100000.0\n",
    "print('La posibilidad de que alguien de 30 años compre algo en este conjunto de datos es de..',str(PF))"
   ]
  },
  {
   "cell_type": "markdown",
   "metadata": {},
   "source": [
    "Y P(E) es la probabilidad general de comprar algo, independientemente de su edad:"
   ]
  },
  {
   "cell_type": "code",
   "execution_count": 8,
   "metadata": {},
   "outputs": [
    {
     "name": "stdout",
     "output_type": "stream",
     "text": [
      "La posibilidad de que alguien independiente de su edad compre algo es de.. 0.45012\n"
     ]
    }
   ],
   "source": [
    "PE = float(totalPurchases) / 100000.0\n",
    "print('La posibilidad de que alguien independiente de su edad compre algo es de..',str(PE))"
   ]
  },
  {
   "cell_type": "markdown",
   "metadata": {},
   "source": [
    "Si E y F fueran independientes, entonces esperaríamos P(E | F) ser aproximadamente lo mismo que P(E). Pero no lo son; P(E) es 0,45 y P(E| F) es 0,3. Entonces, eso nos dice que E y F son dependientes (que sabemos que son en este ejemplo)."
   ]
  },
  {
   "cell_type": "markdown",
   "metadata": {},
   "source": [
    "P(E,F) es diferente de P(E| F). P(E,F) sería la probabilidad de estar en sus 30 años y comprar algo, de la población total, no solo de la población de personas de 30 años:"
   ]
  },
  {
   "cell_type": "code",
   "execution_count": 10,
   "metadata": {
    "scrolled": true
   },
   "outputs": [
    {
     "name": "stdout",
     "output_type": "stream",
     "text": [
      "La posibilidad de que alguien de la poblacion total con 30 años compre algo es de..  0.04974\n"
     ]
    }
   ],
   "source": [
    "print(\"La posibilidad de que alguien de la poblacion total con 30 años compre algo es de..  \" + str(float(purchases[30]) / 100000.0))"
   ]
  },
  {
   "cell_type": "markdown",
   "metadata": {},
   "source": [
    "Calculemos también el producto de P(E) y P(F), P(E)P(F):"
   ]
  },
  {
   "cell_type": "code",
   "execution_count": 19,
   "metadata": {},
   "outputs": [
    {
     "name": "stdout",
     "output_type": "stream",
     "text": [
      "P(30's)P(Purchase)0.07480544280000001\n"
     ]
    }
   ],
   "source": [
    "print(\"P(30's)P(Purchase)\" + str(PE * PF))"
   ]
  },
  {
   "cell_type": "markdown",
   "metadata": {},
   "source": [
    "Algo que puedes aprender en estadísticas es que P(E,F) = P(E)P(F), pero esto supone que E y F son independientes. Hemos encontrado aquí que P(E,F) es aproximadamente 0.05, mientras que P(E)P(F) es aproximadamente 0.075. Entonces, cuando E y F son dependientes, y tenemos una probabilidad condicional, no podemos decir simplemente que P (E, F) = P (E) P (F).\n",
    "\n",
    "También podemos comprobar que P(E| F) = P(E,F)/P(F), que es la relación que mostramos en las diapositivas, y efectivamente, es:"
   ]
  },
  {
   "cell_type": "code",
   "execution_count": 11,
   "metadata": {},
   "outputs": [
    {
     "name": "stdout",
     "output_type": "stream",
     "text": [
      "La probabilidad de comprar algo y de tener 30 años es de..    0.29929598652145134\n"
     ]
    }
   ],
   "source": [
    "print('La probabilidad de comprar algo y de tener 30 años es de..   ',(purchases[30] / 100000.0) / PF)"
   ]
  },
  {
   "cell_type": "markdown",
   "metadata": {},
   "source": [
    "# Tarea\n",
    "*Modifique el código anterior de modo que la probabilidad de compra NO varíe con la edad, haciendo que E y F sean realmente independientes.*\n",
    "\n",
    "*A continuación, confirme que P(E| F) es aproximadamente lo mismo que P(E), mostrando que la probabilidad condicional de compra para una edad dada no es diferente de la probabilidad a priori de compra independientemente de la edad.*\n"
   ]
  },
  {
   "cell_type": "code",
   "execution_count": 12,
   "metadata": {},
   "outputs": [],
   "source": [
    "from numpy import random\n",
    "random.seed(0)\n",
    "\n",
    "totals = {20:0, 30:0, 40:0, 50:0, 60:0, 70:0}\n",
    "purchases = {20:0, 30:0, 40:0, 50:0, 60:0, 70:0}\n",
    "totalPurchases = 0\n",
    "for _ in range(100000):\n",
    "    ageDecade = random.choice([20, 30, 40, 50, 60, 70])\n",
    "    purchaseProbability = 0.4\n",
    "    totals[ageDecade] += 1\n",
    "    if (random.random() < purchaseProbability):\n",
    "        totalPurchases += 1\n",
    "        purchases[ageDecade] += 1"
   ]
  },
  {
   "cell_type": "markdown",
   "metadata": {},
   "source": [
    "*A continuación calcularemos P(E| F) para algunos grupos de edad, vamos a elegir a los de 30 años de nuevo:*"
   ]
  },
  {
   "cell_type": "code",
   "execution_count": 13,
   "metadata": {},
   "outputs": [
    {
     "name": "stdout",
     "output_type": "stream",
     "text": [
      "La posibilidad de que alguien de 30 años compre algo es de.. 0.3987604549010169\n"
     ]
    }
   ],
   "source": [
    "PEF = float(purchases[30]) / float(totals[30])\n",
    "print('La posibilidad de que alguien de 30 años compre algo es de..',str(PEF))"
   ]
  },
  {
   "cell_type": "markdown",
   "metadata": {},
   "source": [
    "Ahora calcularemos P(E)"
   ]
  },
  {
   "cell_type": "code",
   "execution_count": 14,
   "metadata": {},
   "outputs": [
    {
     "name": "stdout",
     "output_type": "stream",
     "text": [
      "La posibilidad de que alguien independiente de su edad compre algo es de.. 0.4003\n"
     ]
    }
   ],
   "source": [
    "PE = float(totalPurchases) / 100000.0\n",
    "print('La posibilidad de que alguien independiente de su edad compre algo es de..',str(PE))"
   ]
  },
  {
   "cell_type": "markdown",
   "metadata": {},
   "source": [
    "**P(E| F) está bastante cerca de P(E), por lo que podemos decir que E y F son probablemente variables independientes.**"
   ]
  },
  {
   "cell_type": "code",
   "execution_count": null,
   "metadata": {},
   "outputs": [],
   "source": []
  }
 ],
 "metadata": {
  "kernelspec": {
   "display_name": "Python 3 (ipykernel)",
   "language": "python",
   "name": "python3"
  },
  "language_info": {
   "codemirror_mode": {
    "name": "ipython",
    "version": 3
   },
   "file_extension": ".py",
   "mimetype": "text/x-python",
   "name": "python",
   "nbconvert_exporter": "python",
   "pygments_lexer": "ipython3",
   "version": "3.9.13"
  }
 },
 "nbformat": 4,
 "nbformat_minor": 1
}
