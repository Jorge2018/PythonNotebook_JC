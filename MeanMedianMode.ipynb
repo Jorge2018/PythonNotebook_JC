{
 "cells": [
  {
   "cell_type": "markdown",
   "metadata": {},
   "source": [
    "# Media, Mediana, Moda e intro a NumPy"
   ]
  },
  {
   "cell_type": "markdown",
   "metadata": {},
   "source": [
    "## Mean vs. Median"
   ]
  },
  {
   "cell_type": "markdown",
   "metadata": {},
   "source": [
    "Vamos a crear algunos datos de ingresos falsos, centrados alrededor de 27.000 con una distribución normal y una desviación estándar de 15.000, con 10.000 puntos de datos. (Discutiremos esos términos más adelante, si no está familiarizado con ellos).\n",
    "\n",
    "Luego, calcule la media (promedio): debe estar cerca de 27,000:"
   ]
  },
  {
   "cell_type": "code",
   "execution_count": 10,
   "metadata": {},
   "outputs": [
    {
     "name": "stdout",
     "output_type": "stream",
     "text": [
      "La media del arreglo de datos es.. 27158.93958446272\n"
     ]
    }
   ],
   "source": [
    "import numpy as np\n",
    "\n",
    "# crea distribucion aleatoria, el punto determinado es 27000\n",
    "# la desviacion estandar es de 15000\n",
    "# contempla 10000 registros\n",
    "\n",
    "incomes = np.random.normal(27000, 15000, 10000)\n",
    "print('La media del arreglo de datos es..',np.mean(incomes))"
   ]
  },
  {
   "cell_type": "markdown",
   "metadata": {},
   "source": [
    "Podemos segmentar los datos de ingresos en 50 cubos y trazarlos como un histograma:"
   ]
  },
  {
   "cell_type": "code",
   "execution_count": 2,
   "metadata": {},
   "outputs": [
    {
     "data": {
      "image/png": "[encoded data removed]",
      "text/plain": [
       "<Figure size 432x288 with 1 Axes>"
      ]
     },
     "metadata": {
      "needs_background": "light"
     },
     "output_type": "display_data"
    }
   ],
   "source": [
    "%matplotlib inline\n",
    "import matplotlib.pyplot as plt\n",
    "plt.hist(incomes, 50)\n",
    "plt.show()"
   ]
  },
  {
   "cell_type": "markdown",
   "metadata": {},
   "source": [
    "Ahora calcule la mediana, ya que tenemos una distribución agradable y uniforme, también debería estar cerca de 27,000:"
   ]
  },
  {
   "cell_type": "code",
   "execution_count": 2,
   "metadata": {},
   "outputs": [
    {
     "name": "stdout",
     "output_type": "stream",
     "text": [
      "La mediana de ingresos es.. 26869.186514282665\n"
     ]
    }
   ],
   "source": [
    "print('La mediana de ingresos es..',np.median(incomes))"
   ]
  },
  {
   "cell_type": "markdown",
   "metadata": {},
   "source": [
    "Ahora agregaremos a Jeff Bezos a la mezcla. ¡Maldita desigualdad de ingresos!"
   ]
  },
  {
   "cell_type": "code",
   "execution_count": 4,
   "metadata": {},
   "outputs": [],
   "source": [
    "incomes = np.append(incomes, [1000000000])"
   ]
  },
  {
   "cell_type": "markdown",
   "metadata": {},
   "source": [
    "La mediana no cambiará mucho, pero la media sí:"
   ]
  },
  {
   "cell_type": "code",
   "execution_count": 3,
   "metadata": {},
   "outputs": [
    {
     "name": "stdout",
     "output_type": "stream",
     "text": [
      "La mediana de ingresos (despues de agregar a un multmillonario) es.. 26869.186514282665\n"
     ]
    }
   ],
   "source": [
    "print('La mediana de ingresos (despues de agregar a un multmillonario) es..',np.median(incomes))"
   ]
  },
  {
   "cell_type": "code",
   "execution_count": 4,
   "metadata": {},
   "outputs": [
    {
     "name": "stdout",
     "output_type": "stream",
     "text": [
      "La media de ingresos es.. 26935.510050893812\n"
     ]
    }
   ],
   "source": [
    "print('La media de ingresos es..',np.mean(incomes))"
   ]
  },
  {
   "cell_type": "markdown",
   "metadata": {},
   "source": [
    "## Moda"
   ]
  },
  {
   "cell_type": "markdown",
   "metadata": {},
   "source": [
    "A continuación, generemos algunos datos de edad falsos para 500 personas:"
   ]
  },
  {
   "cell_type": "code",
   "execution_count": 11,
   "metadata": {},
   "outputs": [
    {
     "data": {
      "text/plain": [
       "array([71, 27, 20, 74, 38, 18, 18, 75, 89, 55, 77, 29, 42, 79, 59, 57, 86,\n",
       "       18, 19, 24, 58, 81, 54, 26, 29, 24, 75, 41, 23, 48, 84, 35, 62, 84,\n",
       "       78, 42, 58, 75, 51, 85, 89, 63, 67, 48, 80, 47, 55, 37, 18, 26, 65,\n",
       "       74, 46, 65, 34, 50, 38, 82, 79, 68, 22, 65, 64, 61, 49, 60, 55, 63,\n",
       "       73, 49, 44, 89, 66, 58, 37, 56, 79, 21, 63, 65, 44, 88, 43, 84, 36,\n",
       "       66, 36, 36, 59, 78, 39, 79, 42, 61, 73, 27, 66, 34, 66, 80, 59, 82,\n",
       "       39, 77, 80, 68, 40, 81, 86, 54, 42, 69, 84, 74, 56, 45, 25, 24, 23,\n",
       "       28, 42, 80, 83, 27, 36, 75, 86, 82, 23, 55, 60, 26, 71, 70, 38, 89,\n",
       "       81, 31, 18, 50, 22, 65, 41, 47, 30, 41, 68, 54, 81, 88, 86, 55, 69,\n",
       "       70, 27, 60, 31, 41, 53, 33, 76, 73, 19, 60, 81, 79, 77, 86, 31, 34,\n",
       "       18, 53, 60, 83, 42, 48, 82, 26, 44, 22, 53, 36, 19, 61, 19, 45, 74,\n",
       "       41, 79, 40, 43, 62, 62, 56, 68, 79, 58, 35, 25, 47, 25, 19, 50, 58,\n",
       "       52, 78, 22, 23, 72, 61, 59, 74, 57, 57, 56, 42, 66, 65, 53, 64, 43,\n",
       "       62, 58, 32, 83, 76, 58, 66, 18, 41, 42, 46, 76, 34, 83, 44, 51, 55,\n",
       "       40, 55, 69, 43, 35, 41, 60, 55, 46, 29, 21, 71, 87, 35, 32, 43, 53,\n",
       "       26, 33, 57, 82, 50, 25, 75, 31, 75, 23, 60, 50, 45, 85, 88, 71, 58,\n",
       "       36, 20, 82, 29, 60, 57, 52, 69, 82, 48, 85, 40, 74, 87, 80, 57, 77,\n",
       "       79, 88, 48, 26, 83, 56, 24, 74, 60, 65, 71, 25, 71, 71, 66, 52, 52,\n",
       "       23, 44, 45, 27, 48, 64, 54, 33, 40, 83, 81, 84, 79, 89, 31, 42, 76,\n",
       "       45, 77, 77, 42, 61, 39, 29, 44, 52, 25, 68, 89, 41, 25, 29, 75, 18,\n",
       "       89, 77, 32, 52, 63, 78, 28, 61, 55, 45, 44, 41, 57, 65, 30, 33, 21,\n",
       "       73, 34, 22, 64, 53, 66, 67, 56, 18, 50, 59, 87, 67, 89, 65, 57, 26,\n",
       "       67, 34, 32, 37, 23, 82, 72, 67, 23, 43, 44, 44, 88, 36, 53, 51, 70,\n",
       "       48, 67, 66, 54, 18, 49, 84, 71, 82, 40, 75, 19, 66, 19, 28, 22, 18,\n",
       "       48, 20, 20, 70, 38, 75, 49, 59, 76, 41, 77, 60, 83, 86, 19, 86, 76,\n",
       "       20, 72, 30, 69, 42, 45, 22, 82, 34, 35, 23, 22, 21, 63, 28, 51, 57,\n",
       "       46, 87, 22, 77, 60, 34, 46, 49, 75, 33, 72, 20, 22, 67, 75, 43, 71,\n",
       "       48, 50, 29, 55, 35, 64, 27, 87, 30, 58, 83, 39, 57, 61, 41, 49, 64,\n",
       "       25, 35, 38, 89, 27, 49, 82, 26, 80, 68, 24, 68, 79, 78, 70, 88, 70,\n",
       "       83, 80, 46, 79, 71, 84, 21])"
      ]
     },
     "execution_count": 11,
     "metadata": {},
     "output_type": "execute_result"
    }
   ],
   "source": [
    "# Creacion de arreglo para edades en 18 y 90 con un total de 500 muestras\n",
    "\n",
    "ages = np.random.randint(18, high=90, size=500)\n",
    "ages"
   ]
  },
  {
   "cell_type": "code",
   "execution_count": 12,
   "metadata": {},
   "outputs": [
    {
     "name": "stdout",
     "output_type": "stream",
     "text": [
      "La moda/cant de apariciones, del arreglo recien creado es.. ModeResult(mode=array([18]), count=array([11]))\n"
     ]
    },
    {
     "name": "stderr",
     "output_type": "stream",
     "text": [
      "C:\\Users\\Dell Inspiron\\AppData\\Local\\Temp\\ipykernel_840\\783500912.py:2: FutureWarning: Unlike other reduction functions (e.g. `skew`, `kurtosis`), the default behavior of `mode` typically preserves the axis it acts along. In SciPy 1.11.0, this behavior will change: the default value of `keepdims` will become False, the `axis` over which the statistic is taken will be eliminated, and the value None will no longer be accepted. Set `keepdims` to True or False to avoid this warning.\n",
      "  print('La moda/cant de apariciones, del arreglo recien creado es..',stats.mode(ages))\n"
     ]
    }
   ],
   "source": [
    "from scipy import stats\n",
    "print('La moda/cant de apariciones, del arreglo recien creado es..',stats.mode(ages))"
   ]
  },
  {
   "cell_type": "code",
   "execution_count": null,
   "metadata": {},
   "outputs": [],
   "source": []
  }
 ],
 "metadata": {
  "kernelspec": {
   "display_name": "Python 3 (ipykernel)",
   "language": "python",
   "name": "python3"
  },
  "language_info": {
   "codemirror_mode": {
    "name": "ipython",
    "version": 3
   },
   "file_extension": ".py",
   "mimetype": "text/x-python",
   "name": "python",
   "nbconvert_exporter": "python",
   "pygments_lexer": "ipython3",
   "version": "3.9.13"
  }
 },
 "nbformat": 4,
 "nbformat_minor": 1
}
