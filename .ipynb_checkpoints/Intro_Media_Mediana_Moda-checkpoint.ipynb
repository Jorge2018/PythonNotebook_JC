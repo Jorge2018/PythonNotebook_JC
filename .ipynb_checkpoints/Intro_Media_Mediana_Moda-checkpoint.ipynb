{
 "cells": [
  {
   "cell_type": "markdown",
   "id": "ef6860c8",
   "metadata": {},
   "source": [
    "# Tipos de datos (Numericos, ordinales, categoricos)\n",
    "\n"
   ]
  },
  {
   "cell_type": "markdown",
   "id": "b2116e7a",
   "metadata": {},
   "source": [
    "*Numericos: Representan algún tipo de medida cuantitativa, altura de las personas, tiempos de carga de la página, precios de las acciones, etc.* \n",
    "\n",
    "*Datos discretos: Basados en enteros; a menudo cuenta de algún evento. ¿Cuántas compras realizó un cliente en un año? ¿Cuántas veces volteé \"cabezas\"?* \n",
    "\n",
    "*Datos continuos; Tiene un número infinito de valores posibles. ¿Cuánto tiempo tardó un usuario en pagar? ¿Cuánta lluvia cayó en un día determinado?*"
   ]
  },
  {
   "cell_type": "markdown",
   "id": "6c136602",
   "metadata": {},
   "source": [
    "*Categoricos: Datos cualitativos que no tienen un significado matemático inherente. Género, sí/no (datos binarios), raza, estado de residencia, categoría de producto, partido político, etc. Puede asignar números a categorías para representarlas de manera más compacta, pero los números no tienen medidas matemáticas.*"
   ]
  },
  {
   "cell_type": "markdown",
   "id": "6b9f0ed3",
   "metadata": {},
   "source": [
    "*Ordinal: Una mezcla de lo numérico y lo categórico. Datos categóricos que tienen significado matemático. Ejemplo: clasificaciones de películas en una escala de 1 a 5. Las calificaciones deben ser 1,2,3,4,5. pero estos valores tienen un significado matemático;1 significa que es una película peor que un 2*"
   ]
  },
  {
   "cell_type": "markdown",
   "id": "14e98a9f",
   "metadata": {},
   "source": [
    "# Media, mediana y moda"
   ]
  },
  {
   "cell_type": "markdown",
   "id": "45e335db",
   "metadata": {},
   "source": [
    "*Media*\n",
    "\n",
    "- AKA promedio \n",
    "- suma / número de muestras \n",
    "- Ejemplo: \n",
    "- 0,2,3,2,1,0,0,2,0 \n",
    "- la media es (0 + 2 + 3 + 2 + 1 + 0 + 0 + 2 + 0) / 9 = 1.11"
   ]
  },
  {
   "cell_type": "code",
   "execution_count": 10,
   "id": "6548b762",
   "metadata": {},
   "outputs": [
    {
     "name": "stdout",
     "output_type": "stream",
     "text": [
      "La media de la lista es..  42.125\n"
     ]
    }
   ],
   "source": [
    "import random\n",
    "\n",
    "lista=random.sample(range(100),8)\n",
    "cont=len(lista)\n",
    "suma=sum(lista)\n",
    "print('La media de la lista es.. ',suma/cont)"
   ]
  },
  {
   "cell_type": "markdown",
   "id": "2ffd7e61",
   "metadata": {},
   "source": [
    "*Mediana*\n",
    "\n",
    "- Ordene los valores y tome el valor en el punto medio. \n",
    "- Ejemplo: 0,2,3,2,1,0,0,2,0. \n",
    "- Ordenarlo 0,0,0,0,1,2,2,2,3 (La mediana corresponde al numero 1)\n",
    "\n",
    "*Si tiene un número par de muestras, tome el promedio de las dos en el medio. La mediana es menos susceptible a los valores atípicos que la media. Ejemplo: el ingreso familiar promedio en los Estados Unidos es de $ 72641 $, pero la mediana es de solo $ 51939 $ porque la media está sesgada por un puñado de multimillonarios. La mediana representa mejor al estadounidense típico en este ejemplo.*"
   ]
  },
  {
   "cell_type": "markdown",
   "id": "63dc00dc",
   "metadata": {},
   "source": [
    "*Moda*\n",
    "\n",
    "- El valor más común en un conjunto de datos. \n",
    " -  No es relevante para datos numéricos continuos. \n",
    "- Volviendo a nuestro número de niños en cada casa \n",
    "- ejemplo: 0,2,3,2,1,0,0,2,0. \n",
    "- ¿Cuántos de cada valor hay? -> 0:4, 1:1, 2:3, 3:1\n",
    "\n",
    "*Por lo tanto la moda es 0*"
   ]
  },
  {
   "cell_type": "code",
   "execution_count": null,
   "id": "27276f5d",
   "metadata": {},
   "outputs": [],
   "source": []
  }
 ],
 "metadata": {
  "kernelspec": {
   "display_name": "Python 3 (ipykernel)",
   "language": "python",
   "name": "python3"
  },
  "language_info": {
   "codemirror_mode": {
    "name": "ipython",
    "version": 3
   },
   "file_extension": ".py",
   "mimetype": "text/x-python",
   "name": "python",
   "nbconvert_exporter": "python",
   "pygments_lexer": "ipython3",
   "version": "3.9.13"
  }
 },
 "nbformat": 4,
 "nbformat_minor": 5
}
