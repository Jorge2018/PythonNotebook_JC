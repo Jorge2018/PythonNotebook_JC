{
 "cells": [
  {
   "cell_type": "markdown",
   "metadata": {},
   "source": [
    "# Media, Mediana, Moda e intro a NumPy"
   ]
  },
  {
   "cell_type": "markdown",
   "metadata": {},
   "source": [
    "## Mean vs. Median"
   ]
  },
  {
   "cell_type": "markdown",
   "metadata": {},
   "source": [
    "Vamos a crear algunos datos de ingresos falsos, centrados alrededor de 27.000 con una distribución normal y una desviación estándar de 15.000, con 10.000 puntos de datos. (Discutiremos esos términos más adelante, si no está familiarizado con ellos).\n",
    "\n",
    "Luego, calcule la media (promedio): debe estar cerca de 27,000:"
   ]
  },
  {
   "cell_type": "code",
   "execution_count": 1,
   "metadata": {},
   "outputs": [
    {
     "data": {
      "text/plain": [
       "26935.510050893812"
      ]
     },
     "execution_count": 1,
     "metadata": {},
     "output_type": "execute_result"
    }
   ],
   "source": [
    "import numpy as np\n",
    "\n",
    "# crea distribucion aleatoria, el punto determinado es 27000\n",
    "# la desviacion estandar es de 15000\n",
    "# contempla 10000 registros\n",
    "\n",
    "incomes = np.random.normal(27000, 15000, 10000)\n",
    "np.mean(incomes)"
   ]
  },
  {
   "cell_type": "markdown",
   "metadata": {},
   "source": [
    "Podemos segmentar los datos de ingresos en 50 cubos y trazarlos como un histograma:"
   ]
  },
  {
   "cell_type": "code",
   "execution_count": 2,
   "metadata": {},
   "outputs": [
    {
     "data": {
      "image/png": "[encoded data removed]",
      "text/plain": [
       "<Figure size 432x288 with 1 Axes>"
      ]
     },
     "metadata": {
      "needs_background": "light"
     },
     "output_type": "display_data"
    }
   ],
   "source": [
    "%matplotlib inline\n",
    "import matplotlib.pyplot as plt\n",
    "plt.hist(incomes, 50)\n",
    "plt.show()"
   ]
  },
  {
   "cell_type": "markdown",
   "metadata": {},
   "source": [
    "Ahora calcule la mediana, ya que tenemos una distribución agradable y uniforme, también debería estar cerca de 27,000:"
   ]
  },
  {
   "cell_type": "code",
   "execution_count": 2,
   "metadata": {},
   "outputs": [
    {
     "name": "stdout",
     "output_type": "stream",
     "text": [
      "La mediana de ingresos es.. 26869.186514282665\n"
     ]
    }
   ],
   "source": [
    "print('La mediana de ingresos es..',np.median(incomes))"
   ]
  },
  {
   "cell_type": "markdown",
   "metadata": {},
   "source": [
    "Ahora agregaremos a Jeff Bezos a la mezcla. ¡Maldita desigualdad de ingresos!"
   ]
  },
  {
   "cell_type": "code",
   "execution_count": 4,
   "metadata": {},
   "outputs": [],
   "source": [
    "incomes = np.append(incomes, [1000000000])"
   ]
  },
  {
   "cell_type": "markdown",
   "metadata": {},
   "source": [
    "La mediana no cambiará mucho, pero la media sí:"
   ]
  },
  {
   "cell_type": "code",
   "execution_count": 3,
   "metadata": {},
   "outputs": [
    {
     "name": "stdout",
     "output_type": "stream",
     "text": [
      "La mediana de ingresos (despues de agregar a un multmillonario) es.. 26869.186514282665\n"
     ]
    }
   ],
   "source": [
    "print('La mediana de ingresos (despues de agregar a un multmillonario) es..',np.median(incomes))"
   ]
  },
  {
   "cell_type": "code",
   "execution_count": 4,
   "metadata": {},
   "outputs": [
    {
     "name": "stdout",
     "output_type": "stream",
     "text": [
      "La media de ingresos es.. 26935.510050893812\n"
     ]
    }
   ],
   "source": [
    "print('La media de ingresos es..',np.mean(incomes))"
   ]
  },
  {
   "cell_type": "markdown",
   "metadata": {},
   "source": [
    "## Moda"
   ]
  },
  {
   "cell_type": "markdown",
   "metadata": {},
   "source": [
    "A continuación, generemos algunos datos de edad falsos para 500 personas:"
   ]
  },
  {
   "cell_type": "code",
   "execution_count": 5,
   "metadata": {},
   "outputs": [
    {
     "data": {
      "text/plain": [
       "array([67, 46, 81, 52, 54, 56, 41, 88, 39, 79, 18, 20, 33, 83, 46, 76, 40,\n",
       "       40, 79, 86, 62, 47, 37, 71, 85, 44, 61, 32, 86, 35, 28, 83, 23, 26,\n",
       "       64, 48, 72, 42, 33, 36, 44, 54, 33, 54, 31, 32, 81, 21, 46, 43, 31,\n",
       "       86, 45, 45, 48, 20, 26, 29, 57, 34, 86, 41, 80, 35, 65, 37, 22, 48,\n",
       "       82, 49, 88, 24, 37, 86, 48, 40, 67, 42, 71, 87, 83, 54, 51, 66, 30,\n",
       "       47, 59, 26, 64, 31, 19, 70, 25, 81, 39, 50, 48, 73, 44, 31, 48, 71,\n",
       "       45, 37, 33, 24, 65, 58, 26, 82, 54, 71, 50, 62, 28, 65, 26, 71, 88,\n",
       "       59, 24, 67, 79, 24, 67, 52, 81, 28, 40, 26, 42, 78, 84, 51, 27, 28,\n",
       "       55, 83, 49, 76, 59, 65, 88, 61, 62, 21, 18, 80, 35, 33, 36, 37, 89,\n",
       "       65, 81, 27, 49, 75, 45, 71, 57, 61, 32, 81, 23, 84, 42, 59, 25, 52,\n",
       "       63, 39, 60, 35, 24, 37, 84, 36, 66, 19, 50, 53, 80, 76, 40, 80, 77,\n",
       "       67, 68, 56, 35, 66, 27, 89, 71, 39, 79, 85, 28, 41, 84, 87, 44, 23,\n",
       "       18, 21, 64, 72, 56, 30, 26, 48, 52, 80, 27, 52, 50, 81, 73, 79, 69,\n",
       "       76, 73, 68, 38, 74, 47, 37, 28, 78, 27, 48, 23, 80, 80, 68, 50, 50,\n",
       "       54, 23, 29, 63, 21, 76, 55, 42, 43, 18, 60, 42, 88, 88, 86, 83, 38,\n",
       "       54, 79, 82, 62, 74, 18, 34, 53, 39, 25, 18, 85, 18, 75, 69, 77, 74,\n",
       "       55, 20, 89, 37, 21, 18, 69, 35, 42, 30, 84, 52, 66, 40, 71, 37, 60,\n",
       "       75, 25, 20, 78, 78, 83, 72, 46, 47, 33, 58, 57, 43, 29, 38, 24, 34,\n",
       "       79, 42, 50, 38, 88, 53, 38, 64, 52, 84, 67, 22, 43, 84, 75, 30, 31,\n",
       "       51, 31, 25, 23, 78, 73, 71, 20, 56, 85, 49, 88, 37, 76, 74, 76, 54,\n",
       "       62, 48, 49, 33, 56, 65, 79, 45, 21, 66, 88, 39, 50, 25, 55, 19, 89,\n",
       "       88, 37, 82, 21, 53, 32, 81, 85, 43, 56, 75, 51, 57, 41, 42, 76, 57,\n",
       "       44, 49, 34, 60, 81, 36, 31, 79, 44, 59, 26, 35, 31, 80, 43, 72, 41,\n",
       "       62, 26, 70, 78, 26, 28, 55, 20, 31, 82, 87, 66, 86, 83, 82, 88, 63,\n",
       "       50, 74, 89, 63, 58, 72, 37, 44, 75, 89, 29, 74, 31, 22, 56, 22, 53,\n",
       "       60, 45, 47, 28, 37, 64, 41, 78, 35, 56, 19, 26, 70, 74, 51, 82, 85,\n",
       "       21, 64, 31, 46, 29, 35, 41, 84, 61, 61, 22, 60, 68, 30, 36, 37, 81,\n",
       "       55, 55, 85, 74, 76, 33, 35, 28, 42, 79, 89, 77, 75, 59, 37, 88, 32,\n",
       "       28, 80, 76, 43, 43, 48, 21, 36, 89, 23, 61, 64, 78, 25, 51, 57, 66,\n",
       "       18, 48, 76, 50, 24, 38, 29])"
      ]
     },
     "execution_count": 5,
     "metadata": {},
     "output_type": "execute_result"
    }
   ],
   "source": [
    "ages = np.random.randint(18, high=90, size=500)\n",
    "ages"
   ]
  },
  {
   "cell_type": "code",
   "execution_count": 9,
   "metadata": {},
   "outputs": [
    {
     "name": "stdout",
     "output_type": "stream",
     "text": [
      "La moda/cant de apariciones, del arreglo recien creado es.. ModeResult(mode=array([37]), count=array([15]))\n"
     ]
    },
    {
     "name": "stderr",
     "output_type": "stream",
     "text": [
      "C:\\Users\\Dell Inspiron\\AppData\\Local\\Temp\\ipykernel_840\\783500912.py:2: FutureWarning: Unlike other reduction functions (e.g. `skew`, `kurtosis`), the default behavior of `mode` typically preserves the axis it acts along. In SciPy 1.11.0, this behavior will change: the default value of `keepdims` will become False, the `axis` over which the statistic is taken will be eliminated, and the value None will no longer be accepted. Set `keepdims` to True or False to avoid this warning.\n",
      "  print('La moda/cant de apariciones, del arreglo recien creado es..',stats.mode(ages))\n"
     ]
    }
   ],
   "source": [
    "from scipy import stats\n",
    "print('La moda/cant de apariciones, del arreglo recien creado es..',stats.mode(ages))"
   ]
  },
  {
   "cell_type": "code",
   "execution_count": null,
   "metadata": {},
   "outputs": [],
   "source": []
  }
 ],
 "metadata": {
  "kernelspec": {
   "display_name": "Python 3 (ipykernel)",
   "language": "python",
   "name": "python3"
  },
  "language_info": {
   "codemirror_mode": {
    "name": "ipython",
    "version": 3
   },
   "file_extension": ".py",
   "mimetype": "text/x-python",
   "name": "python",
   "nbconvert_exporter": "python",
   "pygments_lexer": "ipython3",
   "version": "3.9.13"
  }
 },
 "nbformat": 4,
 "nbformat_minor": 1
}
