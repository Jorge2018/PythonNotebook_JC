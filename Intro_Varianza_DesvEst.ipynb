{
 "cells": [
  {
   "cell_type": "markdown",
   "id": "c4868513",
   "metadata": {},
   "source": [
    "# Varianza\n",
    "\n",
    "- La varianza mide cuán \"dispersos\" están los datos. La varianza es simplemente el promedio de las diferencias al cuadrado de la media. \n",
    "- Ejemplo: ¿Cuál es la varianza del conjunto de datos (1,4,5,8,4,8)? \n",
    " \n",
    " - Primero encuentra la media (1+4+5+8+4+8)/5=4,4. \n",
    " - Ahora encuentra las diferencias con la media:(-3.4,-0.4,0.6,-0.4,3.6).  \n",
    " - Encuentra las diferencias al cuadrado: (11.56, 0.16, 0.36, 0.16, 12.96). \n",
    " - Encuentra el promedio de las diferencias al cuadrado: \n",
    " - Varianza= (11.56 + 0.16 + 0.36 + 0.16 + 12.96)/5 =5.04"
   ]
  },
  {
   "cell_type": "markdown",
   "id": "582e30fe",
   "metadata": {},
   "source": [
    "# Desviacion estandar\n",
    "\n",
    "La desviación estándar (ds) es solo la raíz cuadrada de la varianza. \n",
    "\n",
    "ds=5.04 ^ 2 -> \\sqrt{5.04} =2.24.  \n",
    "\n",
    "Así que la desviación estándar (ds) de (1,4,5,4,8) es 2.24. \n",
    "\n",
    "Esto generalmente se usa como una forma de identificar valores atípicos. Los puntos de datos que se encuentran más de una desviación estándar de la media pueden considerarse inusuales. \n",
    "\n",
    "Puede hablar de cuán extremo es un punto de datos hablando de \"cuántos sigmas\" están lejos de la media que es."
   ]
  },
  {
   "cell_type": "markdown",
   "id": "21a6541a",
   "metadata": {},
   "source": [
    "# Población vs Muestra. \n",
    "\n",
    "Si está trabajando con una muestra de datos en lugar de un conjunto de datos completo (toda la población). \n",
    "Luego desea usar la \"varianza de la muestra\" en lugar de la \"varianza de la población\". \n",
    "Para N muestras, simplemente divida las varianzas cuadradas por N-1 en lugar de N. \n",
    "Entonces, en nuestro ejemplo, calculamos la varianza de la población de esta manera:\n",
    "\n",
    "- ds ^ 2: (11.56 + 0.16 + 0.36 + 0.16 + 12.96) / 5 = 5.04.\n",
    "\n",
    "- Pero la varianza de la muestra sería: S^2:(11.56+0.16+0.36+0.16+12.96)/4=6.3"
   ]
  },
  {
   "cell_type": "code",
   "execution_count": null,
   "id": "58a19f97",
   "metadata": {},
   "outputs": [],
   "source": []
  }
 ],
 "metadata": {
  "kernelspec": {
   "display_name": "Python 3 (ipykernel)",
   "language": "python",
   "name": "python3"
  },
  "language_info": {
   "codemirror_mode": {
    "name": "ipython",
    "version": 3
   },
   "file_extension": ".py",
   "mimetype": "text/x-python",
   "name": "python",
   "nbconvert_exporter": "python",
   "pygments_lexer": "ipython3",
   "version": "3.9.13"
  }
 },
 "nbformat": 4,
 "nbformat_minor": 5
}
